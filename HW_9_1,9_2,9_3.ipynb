{
  "nbformat": 4,
  "nbformat_minor": 0,
  "metadata": {
    "colab": {
      "provenance": [],
      "authorship_tag": "ABX9TyPf4lDcLRPo1VDUnW+pu9uq",
      "include_colab_link": true
    },
    "kernelspec": {
      "name": "python3",
      "display_name": "Python 3"
    },
    "language_info": {
      "name": "python"
    }
  },
  "cells": [
    {
      "cell_type": "markdown",
      "metadata": {
        "id": "view-in-github",
        "colab_type": "text"
      },
      "source": [
        "<a href=\"https://colab.research.google.com/github/Perkins2001/MAT-421/blob/main/HW_9_1%2C9_2%2C9_3.ipynb\" target=\"_parent\"><img src=\"https://colab.research.google.com/assets/colab-badge.svg\" alt=\"Open In Colab\"/></a>"
      ]
    },
    {
      "cell_type": "markdown",
      "source": [
        "9.1"
      ],
      "metadata": {
        "id": "RgXrCBjlF7fp"
      }
    },
    {
      "cell_type": "code",
      "execution_count": 48,
      "metadata": {
        "colab": {
          "base_uri": "https://localhost:8080/"
        },
        "id": "bV1vz9gD9e5P",
        "outputId": "87f76f6d-0f97-45c6-c509-c9e03ea1bd1b"
      },
      "outputs": [
        {
          "output_type": "stream",
          "name": "stdout",
          "text": [
            "True\n"
          ]
        }
      ],
      "source": [
        "print(26 == (1*2**4 + 1*2**3 + 0*2**2 + 1*2**1 + 0*2**0))\n",
        "#This is an example of converting a number into binary, from 26(base10) to 11010(base 2)"
      ]
    },
    {
      "cell_type": "code",
      "source": [
        "print(26, '=' ,bin(26))\n",
        "#This is an example of how python can directly change decimal into binary"
      ],
      "metadata": {
        "colab": {
          "base_uri": "https://localhost:8080/"
        },
        "id": "VfpAgZ1OOOUz",
        "outputId": "fd4adf76-b2b8-4678-830b-5bf2717fefd9"
      },
      "execution_count": 49,
      "outputs": [
        {
          "output_type": "stream",
          "name": "stdout",
          "text": [
            "26 = 0b11010\n"
          ]
        }
      ]
    },
    {
      "cell_type": "code",
      "source": [
        "x=0b11010\n",
        "y=0b11000\n",
        "print('0b11010 + 0b11000 =',x+y)\n",
        "print(50 == 1*2**5 + 1*2**4+0*2**3+0**2+1*2**1+0*2**0)\n",
        "#This shows how python adds binarry numbers and returns a decimal"
      ],
      "metadata": {
        "colab": {
          "base_uri": "https://localhost:8080/"
        },
        "id": "T8NSS1F9OUeo",
        "outputId": "51a0d977-8bbe-4915-b8a8-e98da77b00c3"
      },
      "execution_count": 50,
      "outputs": [
        {
          "output_type": "stream",
          "name": "stdout",
          "text": [
            "0b11010 + 0b11000 = 50\n",
            "True\n"
          ]
        }
      ]
    },
    {
      "cell_type": "markdown",
      "source": [
        "9.2"
      ],
      "metadata": {
        "id": "J7MXN8ujH4n3"
      }
    },
    {
      "cell_type": "code",
      "source": [
        "import sys\n",
        "sys.float_info\n",
        "print ('Given the float: 0 10001001 11111010000000000000000')\n",
        "print ('The first number is just deciding the sign its 0 so its positive')\n",
        "print ('The second number can be converted from binary to give the exponent it is now:', int(0b10001001))\n",
        "print ('The final part of the float is the fraction which is converted to:', 1*(2**-1)+ 1*(2**-2)+ 1*(2**-3)+ 1*(2**-4)+ 1*(2**-5)+ 1*(2**-7))\n",
        "print ('The formula can now be put all together:' ,(-1)**0*2**(137-127)*(1+0.9765625))"
      ],
      "metadata": {
        "colab": {
          "base_uri": "https://localhost:8080/"
        },
        "id": "ukcoC4qgF-vN",
        "outputId": "4b834cc8-f97c-472c-cb9c-0e2807ab8c04"
      },
      "execution_count": 51,
      "outputs": [
        {
          "output_type": "stream",
          "name": "stdout",
          "text": [
            "Given the float: 0 10001001 11111010000000000000000\n",
            "The first number is just deciding the sign its 0 so its positive\n",
            "The second number can be converted from binary to give the exponent it is now: 137\n",
            "The final part of the float is the fraction which is converted to: 0.9765625\n",
            "The formula can now be put all together: 2024.0\n"
          ]
        }
      ]
    },
    {
      "cell_type": "markdown",
      "source": [
        "9.3"
      ],
      "metadata": {
        "id": "KknM9L4iOeZW"
      }
    },
    {
      "cell_type": "code",
      "source": [
        "2.5 - 2.225 == 0.275\n",
        "#Because the floatng point cannot be represented by the exact number this is causing an error as it should be true\n",
        "\n",
        "\n"
      ],
      "metadata": {
        "colab": {
          "base_uri": "https://localhost:8080/"
        },
        "id": "yPKxDSKUOjIW",
        "outputId": "4e68d6a0-1a3f-4204-ad2a-e2afcfab404e"
      },
      "execution_count": 100,
      "outputs": [
        {
          "output_type": "execute_result",
          "data": {
            "text/plain": [
              "False"
            ]
          },
          "metadata": {},
          "execution_count": 100
        }
      ]
    },
    {
      "cell_type": "code",
      "source": [
        "round(2.5-2.225,3) == 0.275\n",
        "#Using round we can correct this erro"
      ],
      "metadata": {
        "colab": {
          "base_uri": "https://localhost:8080/"
        },
        "id": "pYyWmogsU770",
        "outputId": "508cdb2c-d41b-4acd-a142-602de58d5c0c"
      },
      "execution_count": 101,
      "outputs": [
        {
          "output_type": "execute_result",
          "data": {
            "text/plain": [
              "True"
            ]
          },
          "metadata": {},
          "execution_count": 101
        }
      ]
    },
    {
      "cell_type": "code",
      "source": [
        "num1 = 0\n",
        "num2 = 2\n",
        "num3 = 3\n",
        "for i in range(50):\n",
        "  num1 = num1+1/3\n",
        "  print(num1)\n",
        "  if num1 == num2:\n",
        "    print ('ITS WORKING!')\n",
        "  if num1 == num3:\n",
        "    break\n",
        "#An example of how this can effect code, this should theoretically print out \"ITS WORKING!\"\n",
        "#after 6 loops then break after 9 but it doesnt round to 2 properly"
      ],
      "metadata": {
        "colab": {
          "base_uri": "https://localhost:8080/"
        },
        "id": "jUZCx3vyVCMP",
        "outputId": "c5a94710-f975-41ab-cf66-e657499f659d"
      },
      "execution_count": 107,
      "outputs": [
        {
          "output_type": "stream",
          "name": "stdout",
          "text": [
            "0.3333333333333333\n",
            "0.6666666666666666\n",
            "1.0\n",
            "1.3333333333333333\n",
            "1.6666666666666665\n",
            "1.9999999999999998\n",
            "2.333333333333333\n",
            "2.6666666666666665\n",
            "3.0\n"
          ]
        }
      ]
    },
    {
      "cell_type": "code",
      "source": [
        "num1 = 0\n",
        "num2 = 2\n",
        "num3 = 3\n",
        "for i in range(50):\n",
        "  num1 = num1+1/3\n",
        "  print(num1)\n",
        "  if round(num1,2) == num2:\n",
        "    print ('ITS WORKING!')\n",
        "  if num1 == num3:\n",
        "    break\n",
        "  #The round function can fix this as well"
      ],
      "metadata": {
        "colab": {
          "base_uri": "https://localhost:8080/"
        },
        "id": "pqAuniqtWzQF",
        "outputId": "74cfb6a9-8813-4729-db4d-c97998c54289"
      },
      "execution_count": 110,
      "outputs": [
        {
          "output_type": "stream",
          "name": "stdout",
          "text": [
            "0.3333333333333333\n",
            "0.6666666666666666\n",
            "1.0\n",
            "1.3333333333333333\n",
            "1.6666666666666665\n",
            "1.9999999999999998\n",
            "ITS WORKING!\n",
            "2.333333333333333\n",
            "2.6666666666666665\n",
            "3.0\n"
          ]
        }
      ]
    }
  ]
}