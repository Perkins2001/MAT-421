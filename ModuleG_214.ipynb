{
  "nbformat": 4,
  "nbformat_minor": 0,
  "metadata": {
    "colab": {
      "provenance": [],
      "authorship_tag": "ABX9TyNyC1AxUrIAJTdt+cFDEfa/",
      "include_colab_link": true
    },
    "kernelspec": {
      "name": "python3",
      "display_name": "Python 3"
    },
    "language_info": {
      "name": "python"
    }
  },
  "cells": [
    {
      "cell_type": "markdown",
      "metadata": {
        "id": "view-in-github",
        "colab_type": "text"
      },
      "source": [
        "<a href=\"https://colab.research.google.com/github/Perkins2001/MAT-421/blob/main/ModuleG_214.ipynb\" target=\"_parent\"><img src=\"https://colab.research.google.com/assets/colab-badge.svg\" alt=\"Open In Colab\"/></a>"
      ]
    },
    {
      "cell_type": "markdown",
      "source": [
        "21.4 Simpson's rule"
      ],
      "metadata": {
        "id": "aI4qMaX6zIuh"
      }
    },
    {
      "cell_type": "markdown",
      "source": [
        "\n",
        "Simpson's Rule is a computational method used for numerical integration, is demonstrated in Python through function definition (example_func), interval definition, and subinterval quantification. The implementation employs the simpsons_rule function, showing Python's ability to use numerical techniques for integral approximation"
      ],
      "metadata": {
        "id": "X6WPhd2dzuO4"
      }
    },
    {
      "cell_type": "code",
      "execution_count": 1,
      "metadata": {
        "colab": {
          "base_uri": "https://localhost:8080/"
        },
        "id": "iByPUUZ1yMxj",
        "outputId": "5e3cfcf0-6263-4d10-d6f4-5bc81a85bc9b"
      },
      "outputs": [
        {
          "output_type": "stream",
          "name": "stdout",
          "text": [
            "Simpson's Rule:\n",
            "Approximate integral: 3.984851661112362\n",
            "Error: -2.984851661112362\n",
            "\n",
            "Scipy's quad function:\n",
            "Approximate integral: 4.082813503213809\n",
            "Estimated error: 4.532833556518466e-14\n"
          ]
        }
      ],
      "source": [
        "import numpy as np\n",
        "\n",
        "# Define the function\n",
        "def example_func(x):\n",
        "    return x**2 + np.sin(x)\n",
        "\n",
        "# Simpson's Rule implementation\n",
        "def simpsons_rule(a, b, n, func):\n",
        "    h = (b - a) / (n - 1)\n",
        "    x = np.linspace(a, b, n)\n",
        "    y = func(x)\n",
        "    I_simp = (h / 3) * (y[0] + 4 * np.sum(y[1:n-1:2]) + 2 * np.sum(y[2:n-2:2]) + y[n-1])\n",
        "    return I_simp\n",
        "\n",
        "# Interval\n",
        "a = 0\n",
        "b = 2\n",
        "n = 100\n",
        "\n",
        "# Using Simpson's Rule\n",
        "I_simp = simpsons_rule(a, b, n, example_func)\n",
        "err_simp = 1 - I_simp\n",
        "\n",
        "print(\"Simpson's Rule:\")\n",
        "print(\"Approximate integral:\", I_simp)\n",
        "print(\"Error:\", err_simp)\n"
      ]
    },
    {
      "cell_type": "markdown",
      "source": [
        "21.5 Computing Integrals"
      ],
      "metadata": {
        "id": "IZ1PIDP30Dqj"
      }
    },
    {
      "cell_type": "code",
      "source": [
        "from scipy.integrate import quad\n",
        "\n",
        "# Define the function to be integrated\n",
        "def example_func(x):\n",
        "    return x**2 + np.sin(x)\n",
        "\n",
        "# Interval\n",
        "a = 0\n",
        "b = 2\n",
        "\n",
        "# Using scipy's quad function\n",
        "I_quad, est_err_quad = quad(example_func, a, b)\n",
        "\n",
        "print(\"Scipy's quad function:\")\n",
        "print(\"Approximate integral:\", I_quad)\n",
        "print(\"Estimated error:\", est_err_quad)\n"
      ],
      "metadata": {
        "colab": {
          "base_uri": "https://localhost:8080/"
        },
        "id": "zI4X93460P8x",
        "outputId": "42e0bd66-efd0-436d-aee9-5bdc7e41bbbd"
      },
      "execution_count": 2,
      "outputs": [
        {
          "output_type": "stream",
          "name": "stdout",
          "text": [
            "Scipy's quad function:\n",
            "Approximate integral: 4.082813503213809\n",
            "Estimated error: 4.532833556518466e-14\n"
          ]
        }
      ]
    },
    {
      "cell_type": "markdown",
      "source": [
        "The code snippet uses scipy.integrate and quad to compute definite integrals. It employs example_func, [a,b], I_quad, and est_err_quad, showing Python's numerical analysis abilites for integration in scientific computing"
      ],
      "metadata": {
        "id": "eNuXsVfY0RrC"
      }
    }
  ]
}