{
  "cells": [
    {
      "cell_type": "markdown",
      "metadata": {
        "id": "view-in-github",
        "colab_type": "text"
      },
      "source": [
        "<a href=\"https://colab.research.google.com/github/Perkins2001/MAT-421/blob/main/ModuleJ.ipynb\" target=\"_parent\"><img src=\"https://colab.research.google.com/assets/colab-badge.svg\" alt=\"Open In Colab\"/></a>"
      ]
    },
    {
      "cell_type": "markdown",
      "id": "45291c14",
      "metadata": {
        "id": "45291c14"
      },
      "source": [
        "\n",
        "### Network Analysis\n",
        "Network analysis is useful in understanding complex data structures, especially in social networks which inherently have a network structure. Showing practical network analysis, I've created this code to model a graph, compute its adjacency and Laplacian matrices, and demonstrate graph clustering, effectively bringing theoretical concepts to life through applied examples."
      ]
    },
    {
      "cell_type": "code",
      "execution_count": 1,
      "id": "5aebe60c",
      "metadata": {
        "colab": {
          "base_uri": "https://localhost:8080/",
          "height": 459
        },
        "id": "5aebe60c",
        "outputId": "73f86e9b-3bf8-477b-ca17-0181b1e11c55"
      },
      "outputs": [
        {
          "output_type": "display_data",
          "data": {
            "text/plain": [
              "<Figure size 600x400 with 1 Axes>"
            ],
            "image/png": "[encoded data removed]"
          },
          "metadata": {}
        }
      ],
      "source": [
        "import networkx as nx\n",
        "import numpy as np\n",
        "import matplotlib.pyplot as plt\n",
        "\n",
        "G = nx.Graph()\n",
        "G.add_edges_from([(1, 2), (1, 3), (2, 4), (3, 4)])\n",
        "\n",
        "plt.figure(figsize=(6, 4))\n",
        "nx.draw(G, with_labels=True, node_color='lightblue', edge_color='gray', font_weight='bold')\n",
        "plt.title('Simple Graph')\n",
        "plt.show()\n",
        ""
      ]
    },
    {
      "cell_type": "code",
      "execution_count": 2,
      "id": "a8db03a3",
      "metadata": {
        "colab": {
          "base_uri": "https://localhost:8080/"
        },
        "id": "a8db03a3",
        "outputId": "fb0f306a-30d7-4421-932a-b70de38fc814"
      },
      "outputs": [
        {
          "output_type": "stream",
          "name": "stdout",
          "text": [
            "Adjacency Matrix:\n",
            " [[0 1 1 0]\n",
            " [1 0 0 1]\n",
            " [1 0 0 1]\n",
            " [0 1 1 0]]\n"
          ]
        }
      ],
      "source": [
        "\n",
        "# Adjacency Matrix of the graph\n",
        "adj_matrix = nx.adjacency_matrix(G).todense()\n",
        "print(\"Adjacency Matrix:\\n\", adj_matrix)\n",
        ""
      ]
    },
    {
      "cell_type": "code",
      "execution_count": 3,
      "id": "a5d2a2d5",
      "metadata": {
        "colab": {
          "base_uri": "https://localhost:8080/"
        },
        "id": "a5d2a2d5",
        "outputId": "dadcfe16-7073-46fa-fc22-7a508ee0caf0"
      },
      "outputs": [
        {
          "output_type": "stream",
          "name": "stdout",
          "text": [
            "Laplacian Matrix:\n",
            " [[ 2 -1 -1  0]\n",
            " [-1  2  0 -1]\n",
            " [-1  0  2 -1]\n",
            " [ 0 -1 -1  2]]\n"
          ]
        }
      ],
      "source": [
        "\n",
        "# Laplacian Matrix of the graph\n",
        "lap_matrix = nx.laplacian_matrix(G).todense()\n",
        "print(\"Laplacian Matrix:\\n\", lap_matrix)\n",
        ""
      ]
    },
    {
      "cell_type": "code",
      "execution_count": 4,
      "id": "b1c9226e",
      "metadata": {
        "colab": {
          "base_uri": "https://localhost:8080/"
        },
        "id": "b1c9226e",
        "outputId": "44bc2107-ba1b-452b-94f0-c6f20739f9d0"
      },
      "outputs": [
        {
          "output_type": "stream",
          "name": "stdout",
          "text": [
            "Nodes: [1, 2, 3, 4]\n",
            "Fiedler vector: [ 0.40807156 -0.5774752   0.5774752  -0.40807156]\n",
            "Groups: ['Group 1', 'Group 2', 'Group 1', 'Group 2']\n"
          ]
        }
      ],
      "source": [
        "\n",
        "# Spectral clustering using the Laplacian matrix\n",
        "eigenvalues, eigenvectors = np.linalg.eigh(lap_matrix)\n",
        "fiedler_vector = eigenvectors[:, 1]  # second smallest eigenvector\n",
        "groups = ['Group 1' if x > 0 else 'Group 2' for x in fiedler_vector]\n",
        "\n",
        "# Display clustering result\n",
        "print(\"Nodes:\", list(G.nodes()))\n",
        "print(\"Fiedler vector:\", fiedler_vector)\n",
        "print(\"Groups:\", groups)\n",
        ""
      ]
    }
  ],
  "metadata": {
    "colab": {
      "provenance": [],
      "include_colab_link": true
    },
    "language_info": {
      "name": "python"
    },
    "kernelspec": {
      "name": "python3",
      "display_name": "Python 3"
    }
  },
  "nbformat": 4,
  "nbformat_minor": 5
}