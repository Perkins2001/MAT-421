{
  "nbformat": 4,
  "nbformat_minor": 0,
  "metadata": {
    "colab": {
      "provenance": [],
      "authorship_tag": "ABX9TyOgkDrEaXLOFwzMT1pPpmBY",
      "include_colab_link": true
    },
    "kernelspec": {
      "name": "python3",
      "display_name": "Python 3"
    },
    "language_info": {
      "name": "python"
    }
  },
  "cells": [
    {
      "cell_type": "markdown",
      "metadata": {
        "id": "view-in-github",
        "colab_type": "text"
      },
      "source": [
        "<a href=\"https://colab.research.google.com/github/Perkins2001/MAT-421/blob/main/Module_D.ipynb\" target=\"_parent\"><img src=\"https://colab.research.google.com/assets/colab-badge.svg\" alt=\"Open In Colab\"/></a>"
      ]
    },
    {
      "cell_type": "markdown",
      "source": [
        "1.1"
      ],
      "metadata": {
        "id": "1zpOrR6h5fmE"
      }
    },
    {
      "cell_type": "markdown",
      "source": [
        "Naturals (Mathematical):\n",
        "    N = {1, 2, 3, 4, ...}\n",
        "    Python Equivalent: Naturals = [1, 2, 3, 4, ...] or int()\n",
        "\n",
        "Wholes (Mathematical):\n",
        "    W = N ∪ {0}\n",
        "    Python Equivalent: Wholes = [0, 1, 2, 3, ...] or int()\n",
        "\n",
        "Integers (Mathematical):\n",
        "    Z = W ∪ {-1, -2, -3, ...}\n",
        "    Python Equivalent: Integers = [0, 1, -1, 2, -2, 3, -3, ...] or int()\n",
        "\n",
        "Rationals (Mathematical):\n",
        "    Q = {p/q : p ∈ Z, q ∈ Z \\ {0}}\n",
        "    Python Equivalent: Rationals = [1/2, 1/3, 0, -1/2, ...] or float()\n",
        "\n",
        "Irrationals (Mathematical):\n",
        "    I = set of real numbers not expressible as a fraction of integers\n",
        "    Python Equivalent: Irrationals = [e, pi, ...] or float()\n",
        "    Note: In computers, irrational numbers are represented as floating-point numbers, but due to the finite precision of floating-point arithmetic, they are effectively rational.\n",
        "\n",
        "Reals (Mathematical):\n",
        "    R = Q ∪ I\n",
        "    Python Equivalent: Reals = Rationals + Irrationals or float()\n",
        "\n",
        "Complex Numbers (Mathematical):\n",
        "    C = {a + bi : a, b ∈ R, i = sqrt(-1)}\n",
        "    Python Equivalent: Complex Numbers = [a + bi for a, b in zip(Reals, Reals)] or complex()\n"
      ],
      "metadata": {
        "id": "SjSHa93e5rAY"
      }
    },
    {
      "cell_type": "markdown",
      "source": [
        "1.2\n",
        "We can use the Guadd-Seidel method to solve a system of linear eqautons in python"
      ],
      "metadata": {
        "id": "13QfGI9t6qK4"
      }
    },
    {
      "cell_type": "code",
      "execution_count": 2,
      "metadata": {
        "colab": {
          "base_uri": "https://localhost:8080/"
        },
        "id": "rqLsK3QC4SLz",
        "outputId": "451f4871-9c51-4c91-855b-1969a6bd9814"
      },
      "outputs": [
        {
          "output_type": "stream",
          "name": "stdout",
          "text": [
            "Matrix is diagonally dominant\n",
            "Iteration results\n",
            " k,    x \n",
            "1   [3.33333333 2.66666667]\n",
            "2   [1.55555556 1.77777778]\n",
            "3   [2.14814815 2.07407407]\n",
            "4   [1.95061728 1.97530864]\n",
            "5   [2.01646091 2.00823045]\n",
            "6   [1.99451303 1.99725652]\n",
            "7   [2.00182899 2.00091449]\n",
            "8   [1.99939034 1.99969517]\n",
            "9   [2.00020322 2.00010161]\n",
            "10   [1.99993226 1.99996613]\n",
            "11   [2.00002258 2.00001129]\n",
            "12   [1.99999247 1.99999624]\n",
            "Converged!\n",
            "Solution: [1.99999247 1.99999624]\n"
          ]
        }
      ],
      "source": [
        "import numpy as np\n",
        "\n",
        "def Gauss_Siedel(coeffMatrix, ys, epsilon=0.01, maxIterations=50):\n",
        "    diag = np.diag(np.abs(coeffMatrix))\n",
        "    off_diag = np.sum(np.abs(coeffMatrix), axis=1) - diag\n",
        "\n",
        "    if np.all(diag > off_diag):\n",
        "        print('Matrix is diagonally dominant')\n",
        "    else:\n",
        "        print('NOT diagonally dominant')\n",
        "\n",
        "    x = np.zeros(coeffMatrix.shape[1])\n",
        "    x_old = np.zeros(coeffMatrix.shape[1])\n",
        "\n",
        "    converged = False\n",
        "\n",
        "    print('Iteration results')\n",
        "    print(' k,    x ')\n",
        "    for k in range(1, maxIterations):\n",
        "        for i in range(len(x)):\n",
        "            corr = 0\n",
        "            for j in range(len(x)):\n",
        "                if i != j:\n",
        "                    corr += coeffMatrix[i, j] * x[j]\n",
        "            x[i] = (ys[i] - corr) / coeffMatrix[i, i]\n",
        "\n",
        "        dx = np.sqrt(np.dot(x - x_old, x - x_old))\n",
        "\n",
        "        print(\"%d  \" % (k), x)\n",
        "        if dx < epsilon:\n",
        "            converged = True\n",
        "            print('Converged!')\n",
        "            break\n",
        "\n",
        "        x_old = x + 0\n",
        "\n",
        "    if not converged:\n",
        "        print('Not converged, increase the number of iterations')\n",
        "\n",
        "    return x\n",
        "\n",
        "# Example coefficients and right-hand side\n",
        "coeffMatrix = np.array([[3, 2], [-2, 4]], dtype=float)\n",
        "ys = np.array([10, 4], dtype=float)\n",
        "\n",
        "# Solve the system\n",
        "solution = Gauss_Siedel(coeffMatrix, ys, epsilon=0.0001)\n",
        "print('Solution:', solution)"
      ]
    },
    {
      "cell_type": "markdown",
      "source": [
        "1.3 Linear Regression\n"
      ],
      "metadata": {
        "id": "p4XR1tLe6-JQ"
      }
    },
    {
      "cell_type": "markdown",
      "source": [
        "Here is an example of QR Decompositon, we can generate sone data and perform linear regression on it."
      ],
      "metadata": {
        "id": "Lz3j_Xmv7feJ"
      }
    },
    {
      "cell_type": "code",
      "source": [
        "import numpy as np\n",
        "import matplotlib.pyplot as plt\n",
        "\n",
        "# Generate synthetic data with some noise\n",
        "np.random.seed(42)\n",
        "x = np.linspace(0, 1, 50)\n",
        "y = 2 * x + 1 + 0.2 * np.random.randn(len(x))\n",
        "\n",
        "# Perform QR Decomposition\n",
        "A = np.vstack([x, np.ones(len(x))]).T\n",
        "Q, R = np.linalg.qr(A)\n",
        "\n",
        "# Solve the linear least squares problem using QR Decomposition\n",
        "a = np.linalg.solve(R, np.dot(Q.T, y))\n",
        "\n",
        "# Plot the original data and the regression line\n",
        "plt.scatter(x, y, label='Original Data')\n",
        "plt.plot(x, a[0] * x + a[1], color='red', label='Regression Line')\n",
        "plt.xlabel('x')\n",
        "plt.ylabel('y')\n",
        "plt.legend()\n",
        "plt.show()\n",
        "\n",
        "print('Coefficients (a):', a)"
      ],
      "metadata": {
        "id": "No69okcp7eDB"
      },
      "execution_count": null,
      "outputs": []
    }
  ]
}